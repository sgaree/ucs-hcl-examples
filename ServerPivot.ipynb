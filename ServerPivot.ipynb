{
 "cells": [
  {
   "cell_type": "markdown",
   "metadata": {},
   "source": [
    "# Example of querying the UCS HCL using the Server Pivot"
   ]
  },
  {
   "cell_type": "markdown",
   "metadata": {},
   "source": [
    "## Overview"
   ]
  },
  {
   "cell_type": "markdown",
   "metadata": {},
   "source": [
    "* Walk the API to get all the arguments for the final query\n",
    "* The database is optimized to prevent deadend queries using a pruned tree structure\n",
    "* The tree IDs are used to find the data for the search arguments\n",
    "* Tree IDs can change as the HCL DB is updated, so they can't be cached"
   ]
  },
  {
   "cell_type": "code",
   "execution_count": 1,
   "metadata": {
    "collapsed": false
   },
   "outputs": [],
   "source": [
    "import requests\n",
    "import json"
   ]
  },
  {
   "cell_type": "markdown",
   "metadata": {},
   "source": [
    "### Switch the next cell from Markdown to Code for Request debugging when necessary"
   ]
  },
  {
   "cell_type": "markdown",
   "metadata": {
    "collapsed": false
   },
   "source": [
    "import logging\n",
    "import httplib as http_client\n",
    "http_client.HTTPConnection.debuglevel = 1\n",
    "\n",
    "logging.basicConfig()\n",
    "logging.getLogger().setLevel(logging.DEBUG)\n",
    "requests_log = logging.getLogger(\"requests.packages.urllib3\")\n",
    "requests_log.setLevel(logging.DEBUG)\n",
    "requests_log.propagate = True"
   ]
  },
  {
   "cell_type": "markdown",
   "metadata": {},
   "source": [
    "### Current API location"
   ]
  },
  {
   "cell_type": "code",
   "execution_count": 2,
   "metadata": {
    "collapsed": true
   },
   "outputs": [],
   "source": [
    "hcl_root = \"https://ucshcltool.cloudapps.cisco.com/public/rest/\""
   ]
  },
  {
   "cell_type": "markdown",
   "metadata": {
    "collapsed": true
   },
   "source": [
    "### We start by retrieving the supported server types"
   ]
  },
  {
   "cell_type": "markdown",
   "metadata": {},
   "source": [
    "#### Target the specific API; takes no parameters"
   ]
  },
  {
   "cell_type": "code",
   "execution_count": 3,
   "metadata": {
    "collapsed": true
   },
   "outputs": [],
   "source": [
    "loadServerTypes = \"server/loadServerTypes\""
   ]
  },
  {
   "cell_type": "code",
   "execution_count": 4,
   "metadata": {
    "collapsed": false
   },
   "outputs": [],
   "source": [
    "resp = requests.post(hcl_root + loadServerTypes)"
   ]
  },
  {
   "cell_type": "code",
   "execution_count": 5,
   "metadata": {
    "collapsed": false
   },
   "outputs": [
    {
     "data": {
      "text/plain": [
       "[{u'ID': 0,\n",
       "  u'MANAGED': u'UCSM      ',\n",
       "  u'RELEASE': u'B-Series',\n",
       "  u'TYPE': u'B',\n",
       "  u'T_ID': 1},\n",
       " {u'ID': 0,\n",
       "  u'MANAGED': u'UCSM      ',\n",
       "  u'RELEASE': u'C-Series',\n",
       "  u'TYPE': u'C',\n",
       "  u'T_ID': 2},\n",
       " {u'ID': 1,\n",
       "  u'MANAGED': u'Standalone',\n",
       "  u'RELEASE': u'C-Series',\n",
       "  u'TYPE': u'C',\n",
       "  u'T_ID': 4},\n",
       " {u'ID': 2,\n",
       "  u'MANAGED': u'UCSM      ',\n",
       "  u'RELEASE': u'M-Series',\n",
       "  u'TYPE': u'M',\n",
       "  u'T_ID': 3},\n",
       " {u'ID': 3,\n",
       "  u'MANAGED': u'UCSM      ',\n",
       "  u'RELEASE': u'HX-Series',\n",
       "  u'TYPE': u'HX',\n",
       "  u'T_ID': 5}]"
      ]
     },
     "execution_count": 5,
     "metadata": {},
     "output_type": "execute_result"
    }
   ],
   "source": [
    "resp.json()"
   ]
  },
  {
   "cell_type": "markdown",
   "metadata": {},
   "source": [
    "#### You can save things away if needed"
   ]
  },
  {
   "cell_type": "code",
   "execution_count": 6,
   "metadata": {
    "collapsed": false
   },
   "outputs": [],
   "source": [
    "serverTypes = resp.json()"
   ]
  },
  {
   "cell_type": "markdown",
   "metadata": {
    "collapsed": true
   },
   "source": [
    "### Find the B-Series servers"
   ]
  },
  {
   "cell_type": "code",
   "execution_count": 7,
   "metadata": {
    "collapsed": false
   },
   "outputs": [],
   "source": [
    "for t in serverTypes:\n",
    "    if t['TYPE'] == 'B':\n",
    "        bladeRelease = t\n",
    "        break\n",
    "    else:\n",
    "        raise Exception('Blade type not found in loadServerTypes response')"
   ]
  },
  {
   "cell_type": "code",
   "execution_count": 8,
   "metadata": {
    "collapsed": false
   },
   "outputs": [
    {
     "data": {
      "text/plain": [
       "{u'ID': 0,\n",
       " u'MANAGED': u'UCSM      ',\n",
       " u'RELEASE': u'B-Series',\n",
       " u'TYPE': u'B',\n",
       " u'T_ID': 1}"
      ]
     },
     "execution_count": 8,
     "metadata": {},
     "output_type": "execute_result"
    }
   ],
   "source": [
    "bladeRelease"
   ]
  },
  {
   "cell_type": "markdown",
   "metadata": {
    "collapsed": true
   },
   "source": [
    "##### The APIs use the treeId for the parameters of the subsequent requests"
   ]
  },
  {
   "cell_type": "code",
   "execution_count": 9,
   "metadata": {
    "collapsed": false
   },
   "outputs": [],
   "source": [
    "sTypeTreeId = { 'treeIdRelease' : str(bladeRelease['T_ID']) }"
   ]
  },
  {
   "cell_type": "code",
   "execution_count": 10,
   "metadata": {
    "collapsed": true
   },
   "outputs": [],
   "source": [
    "loadServerModels = \"server/loadServerModels\""
   ]
  },
  {
   "cell_type": "markdown",
   "metadata": {},
   "source": [
    "### The form data is NOT json!!!"
   ]
  },
  {
   "cell_type": "code",
   "execution_count": 11,
   "metadata": {
    "collapsed": false
   },
   "outputs": [],
   "source": [
    "resp = requests.post(hcl_root + loadServerModels, data=sTypeTreeId)"
   ]
  },
  {
   "cell_type": "code",
   "execution_count": 12,
   "metadata": {
    "collapsed": false
   },
   "outputs": [
    {
     "data": {
      "text/plain": [
       "<Response [200]>"
      ]
     },
     "execution_count": 12,
     "metadata": {},
     "output_type": "execute_result"
    }
   ],
   "source": [
    "resp"
   ]
  },
  {
   "cell_type": "code",
   "execution_count": 13,
   "metadata": {
    "collapsed": false
   },
   "outputs": [
    {
     "data": {
      "text/plain": [
       "[{u'ID': u'66,67',\n",
       "  u'SERVER_MODEL': u'Cisco UCS Scalable M4 Blade Module for UCS B260 M4 or B460 M4 Blade Server with E7 v2 CPU',\n",
       "  u'T_ID': u'26,27'},\n",
       " {u'ID': u'9,42', u'SERVER_MODEL': u'Cisco UCS B22 M3', u'T_ID': u'14,15'},\n",
       " {u'ID': u'10,43', u'SERVER_MODEL': u'Cisco UCS B420 M3', u'T_ID': u'20,21'},\n",
       " {u'ID': u'70,187', u'SERVER_MODEL': u'Cisco UCS B420 M4', u'T_ID': u'22,23'},\n",
       " {u'ID': u'188,189',\n",
       "  u'SERVER_MODEL': u'3rd Generation Cisco UCS Scalable M4 Blade Module',\n",
       "  u'T_ID': u'6,7'},\n",
       " {u'ID': u'68,69',\n",
       "  u'SERVER_MODEL': u'Cisco UCS Scalable M4 Blade Module for UCS B260 M4 or B460 M4 Blade Server with E7 v3 CPU',\n",
       "  u'T_ID': u'28,29'},\n",
       " {u'ID': u'4', u'SERVER_MODEL': u'Cisco UCS B230 M1', u'T_ID': u'16'},\n",
       " {u'ID': u'5', u'SERVER_MODEL': u'Cisco UCS B230 M2', u'T_ID': u'17'},\n",
       " {u'ID': u'1', u'SERVER_MODEL': u'Cisco UCS B250 M2', u'T_ID': u'19'},\n",
       " {u'ID': u'3', u'SERVER_MODEL': u'Cisco UCS B250 M1', u'T_ID': u'18'},\n",
       " {u'ID': u'7', u'SERVER_MODEL': u'Cisco UCS B440 M2', u'T_ID': u'25'},\n",
       " {u'ID': u'6', u'SERVER_MODEL': u'Cisco UCS B440 M1', u'T_ID': u'24'},\n",
       " {u'ID': u'8,31', u'SERVER_MODEL': u'Cisco UCS B200 M3', u'T_ID': u'10,11'},\n",
       " {u'ID': u'51,157', u'SERVER_MODEL': u'Cisco UCS B200 M4', u'T_ID': u'12,13'},\n",
       " {u'ID': u'2', u'SERVER_MODEL': u'Cisco UCS B200 M1', u'T_ID': u'8'},\n",
       " {u'ID': u'0', u'SERVER_MODEL': u'Cisco UCS B200 M2', u'T_ID': u'9'}]"
      ]
     },
     "execution_count": 13,
     "metadata": {},
     "output_type": "execute_result"
    }
   ],
   "source": [
    "resp.json()"
   ]
  },
  {
   "cell_type": "markdown",
   "metadata": {
    "collapsed": false
   },
   "source": [
    "### We want the B200 M4"
   ]
  },
  {
   "cell_type": "code",
   "execution_count": 14,
   "metadata": {
    "collapsed": false
   },
   "outputs": [],
   "source": [
    "for s in resp.json():\n",
    "    if \"B200 M4\" in s['SERVER_MODEL']:\n",
    "        blade=s\n",
    "        break\n",
    "else:\n",
    "    raise Exception('Server model B200 M4 not found in loadServerModels')"
   ]
  },
  {
   "cell_type": "code",
   "execution_count": 15,
   "metadata": {
    "collapsed": false
   },
   "outputs": [
    {
     "data": {
      "text/plain": [
       "{u'ID': u'51,157', u'SERVER_MODEL': u'Cisco UCS B200 M4', u'T_ID': u'12,13'}"
      ]
     },
     "execution_count": 15,
     "metadata": {},
     "output_type": "execute_result"
    }
   ],
   "source": [
    "blade"
   ]
  },
  {
   "cell_type": "markdown",
   "metadata": {},
   "source": [
    "### Find and select the processors in our blade"
   ]
  },
  {
   "cell_type": "code",
   "execution_count": 16,
   "metadata": {
    "collapsed": true
   },
   "outputs": [],
   "source": [
    "sModelTreeId = { 'treeIdServerModel' : blade['T_ID'] }"
   ]
  },
  {
   "cell_type": "code",
   "execution_count": 17,
   "metadata": {
    "collapsed": true
   },
   "outputs": [],
   "source": [
    "loadProcessors = \"server/loadProcessors\""
   ]
  },
  {
   "cell_type": "code",
   "execution_count": 18,
   "metadata": {
    "collapsed": false
   },
   "outputs": [
    {
     "data": {
      "text/plain": [
       "{'treeIdServerModel': u'12,13'}"
      ]
     },
     "execution_count": 18,
     "metadata": {},
     "output_type": "execute_result"
    }
   ],
   "source": [
    "sModelTreeId"
   ]
  },
  {
   "cell_type": "code",
   "execution_count": 19,
   "metadata": {
    "collapsed": false
   },
   "outputs": [],
   "source": [
    "resp = requests.post(hcl_root + loadProcessors, data=sModelTreeId)"
   ]
  },
  {
   "cell_type": "code",
   "execution_count": 20,
   "metadata": {
    "collapsed": false
   },
   "outputs": [
    {
     "data": {
      "text/plain": [
       "<Response [200]>"
      ]
     },
     "execution_count": 20,
     "metadata": {},
     "output_type": "execute_result"
    }
   ],
   "source": [
    "resp"
   ]
  },
  {
   "cell_type": "code",
   "execution_count": 21,
   "metadata": {
    "collapsed": false
   },
   "outputs": [
    {
     "data": {
      "text/plain": [
       "[{u'ID': u'61',\n",
       "  u'PROCESSOR': u'Intel Xeon E5-2600 v3 Series processors',\n",
       "  u'T_ID': u'153'},\n",
       " {u'ID': u'84',\n",
       "  u'PROCESSOR': u'Intel Xeon E5-2600 v4 Series processors',\n",
       "  u'T_ID': u'132'}]"
      ]
     },
     "execution_count": 21,
     "metadata": {},
     "output_type": "execute_result"
    }
   ],
   "source": [
    "resp.json()"
   ]
  },
  {
   "cell_type": "markdown",
   "metadata": {},
   "source": [
    "### We're using Broadwell (v4) procs"
   ]
  },
  {
   "cell_type": "code",
   "execution_count": 22,
   "metadata": {
    "collapsed": false
   },
   "outputs": [],
   "source": [
    "for p in resp.json():\n",
    "    if \"E5-2600 v4\" in p['PROCESSOR']:\n",
    "        proc=p\n",
    "        break\n",
    "else:\n",
    "    raise Exception('Processor model E5-2600 v4 not found in loadProcessors')"
   ]
  },
  {
   "cell_type": "code",
   "execution_count": 23,
   "metadata": {
    "collapsed": false
   },
   "outputs": [
    {
     "data": {
      "text/plain": [
       "{u'ID': u'84',\n",
       " u'PROCESSOR': u'Intel Xeon E5-2600 v4 Series processors',\n",
       " u'T_ID': u'132'}"
      ]
     },
     "execution_count": 23,
     "metadata": {},
     "output_type": "execute_result"
    }
   ],
   "source": [
    "p"
   ]
  },
  {
   "cell_type": "code",
   "execution_count": 24,
   "metadata": {
    "collapsed": true
   },
   "outputs": [],
   "source": [
    "pModelTreeId = { 'treeIdProcessor' : p['T_ID'] }"
   ]
  },
  {
   "cell_type": "code",
   "execution_count": 25,
   "metadata": {
    "collapsed": false
   },
   "outputs": [
    {
     "data": {
      "text/plain": [
       "{'treeIdProcessor': u'132'}"
      ]
     },
     "execution_count": 25,
     "metadata": {},
     "output_type": "execute_result"
    }
   ],
   "source": [
    "pModelTreeId"
   ]
  },
  {
   "cell_type": "markdown",
   "metadata": {},
   "source": [
    "### Now we need to select the OS we're using"
   ]
  },
  {
   "cell_type": "code",
   "execution_count": 26,
   "metadata": {
    "collapsed": true
   },
   "outputs": [],
   "source": [
    "loadOsVendors = 'server/loadOsVendors'"
   ]
  },
  {
   "cell_type": "code",
   "execution_count": 27,
   "metadata": {
    "collapsed": false
   },
   "outputs": [],
   "source": [
    "resp = requests.post(hcl_root + loadOsVendors, data=pModelTreeId)"
   ]
  },
  {
   "cell_type": "code",
   "execution_count": 28,
   "metadata": {
    "collapsed": false
   },
   "outputs": [
    {
     "data": {
      "text/plain": [
       "[{u'ID': u'4', u'OSVENDOR': u'Red Hat', u'T_ID': u'341'},\n",
       " {u'ID': u'8', u'OSVENDOR': u'CentOS', u'T_ID': u'337'},\n",
       " {u'ID': u'7', u'OSVENDOR': u'Ubuntu', u'T_ID': u'343'},\n",
       " {u'ID': u'3', u'OSVENDOR': u'Oracle', u'T_ID': u'340'},\n",
       " {u'ID': u'1', u'OSVENDOR': u'Microsoft', u'T_ID': u'339'},\n",
       " {u'ID': u'0', u'OSVENDOR': u'Citrix', u'T_ID': u'338'},\n",
       " {u'ID': u'5', u'OSVENDOR': u'VMware', u'T_ID': u'344'},\n",
       " {u'ID': u'2', u'OSVENDOR': u'SuSE', u'T_ID': u'342'}]"
      ]
     },
     "execution_count": 28,
     "metadata": {},
     "output_type": "execute_result"
    }
   ],
   "source": [
    "resp.json()"
   ]
  },
  {
   "cell_type": "markdown",
   "metadata": {},
   "source": [
    "### VMware is our thing"
   ]
  },
  {
   "cell_type": "code",
   "execution_count": 29,
   "metadata": {
    "collapsed": false
   },
   "outputs": [],
   "source": [
    "for osv in resp.json():\n",
    "    if \"VMware\" in osv['OSVENDOR']:\n",
    "        vendor=osv\n",
    "        break\n",
    "else:\n",
    "    raise Exception('Vendor VMware not found in loadOsVendors')"
   ]
  },
  {
   "cell_type": "code",
   "execution_count": 30,
   "metadata": {
    "collapsed": false
   },
   "outputs": [
    {
     "data": {
      "text/plain": [
       "{u'ID': u'5', u'OSVENDOR': u'VMware', u'T_ID': u'344'}"
      ]
     },
     "execution_count": 30,
     "metadata": {},
     "output_type": "execute_result"
    }
   ],
   "source": [
    "vendor"
   ]
  },
  {
   "cell_type": "code",
   "execution_count": 31,
   "metadata": {
    "collapsed": true
   },
   "outputs": [],
   "source": [
    "osVendorTreeId = { 'treeIdVendor' : vendor['T_ID'] }"
   ]
  },
  {
   "cell_type": "markdown",
   "metadata": {},
   "source": [
    "### And finally find the OS Version"
   ]
  },
  {
   "cell_type": "code",
   "execution_count": 32,
   "metadata": {
    "collapsed": true
   },
   "outputs": [],
   "source": [
    "loadOsVersions = 'server/loadOsVersions'"
   ]
  },
  {
   "cell_type": "code",
   "execution_count": 33,
   "metadata": {
    "collapsed": false
   },
   "outputs": [],
   "source": [
    "resp = requests.post(hcl_root + loadOsVersions, data=osVendorTreeId)"
   ]
  },
  {
   "cell_type": "code",
   "execution_count": 34,
   "metadata": {
    "collapsed": false
   },
   "outputs": [
    {
     "data": {
      "text/plain": [
       "[{u'ID': u'624', u'OSVERSION': u'vSphere 6.5', u'T_ID': u'2032'},\n",
       " {u'ID': u'289', u'OSVERSION': u'vSphere 5.5 U3', u'T_ID': u'2028'},\n",
       " {u'ID': u'414', u'OSVERSION': u'vSphere 6.0 U2', u'T_ID': u'2030'},\n",
       " {u'ID': u'647', u'OSVERSION': u'vSphere 6.0 U3', u'T_ID': u'2031'},\n",
       " {u'ID': u'287', u'OSVERSION': u'vSphere 6.0 U1', u'T_ID': u'2029'}]"
      ]
     },
     "execution_count": 34,
     "metadata": {},
     "output_type": "execute_result"
    }
   ],
   "source": [
    "resp.json()"
   ]
  },
  {
   "cell_type": "code",
   "execution_count": 35,
   "metadata": {
    "collapsed": true
   },
   "outputs": [],
   "source": [
    "for v in resp.json():\n",
    "    if \"6.5\" in v['OSVERSION']:\n",
    "        vers=v\n",
    "        break\n",
    "else:\n",
    "    raise Exception('vSphere 6.5 not found in loadOsVersions')"
   ]
  },
  {
   "cell_type": "code",
   "execution_count": 36,
   "metadata": {
    "collapsed": false
   },
   "outputs": [
    {
     "data": {
      "text/plain": [
       "{u'ID': u'624', u'OSVERSION': u'vSphere 6.5', u'T_ID': u'2032'}"
      ]
     },
     "execution_count": 36,
     "metadata": {},
     "output_type": "execute_result"
    }
   ],
   "source": [
    "vers"
   ]
  },
  {
   "cell_type": "markdown",
   "metadata": {},
   "source": [
    "### We have everything we need to submit our query, form the request payload"
   ]
  },
  {
   "cell_type": "code",
   "execution_count": 37,
   "metadata": {
    "collapsed": true
   },
   "outputs": [],
   "source": [
    "query = { 'serverType_ID' : str(bladeRelease['ID']),\n",
    "          'serverModel_ID' : blade['ID'],\n",
    "          'processor_ID' : proc['ID'],\n",
    "          'osVendor_ID' : vendor['ID'],\n",
    "          'osVersion_ID' : vers['ID'],\n",
    "          'firmwareVersion_ID' : str(-1),\n",
    "          'manageType' : bladeRelease['MANAGED'].strip() }"
   ]
  },
  {
   "cell_type": "code",
   "execution_count": 38,
   "metadata": {
    "collapsed": false
   },
   "outputs": [
    {
     "data": {
      "text/plain": [
       "{'firmwareVersion_ID': '-1',\n",
       " 'manageType': u'UCSM',\n",
       " 'osVendor_ID': u'5',\n",
       " 'osVersion_ID': u'624',\n",
       " 'processor_ID': u'84',\n",
       " 'serverModel_ID': u'51,157',\n",
       " 'serverType_ID': '0'}"
      ]
     },
     "execution_count": 38,
     "metadata": {},
     "output_type": "execute_result"
    }
   ],
   "source": [
    "query"
   ]
  },
  {
   "cell_type": "code",
   "execution_count": 39,
   "metadata": {
    "collapsed": false
   },
   "outputs": [],
   "source": [
    "loadSearchResults = 'server/loadSearchResults'"
   ]
  },
  {
   "cell_type": "code",
   "execution_count": 40,
   "metadata": {
    "collapsed": false
   },
   "outputs": [],
   "source": [
    "resp = requests.post(hcl_root + loadSearchResults, data=query)"
   ]
  },
  {
   "cell_type": "code",
   "execution_count": 41,
   "metadata": {
    "collapsed": false
   },
   "outputs": [
    {
     "data": {
      "text/plain": [
       "<Response [200]>"
      ]
     },
     "execution_count": 41,
     "metadata": {},
     "output_type": "execute_result"
    }
   ],
   "source": [
    "resp"
   ]
  },
  {
   "cell_type": "markdown",
   "metadata": {},
   "source": [
    "We now have the results of the query, so we can perform magical things with it, like:\n",
    "    * Generate a report to be kept in a runbook\n",
    "    * Compare the driver list to what we're running to make sure we're compliant\n",
    "    * Check a new FW or OS version against current drivers to see what the impact is\n",
    "\n",
    "We're just going to dump the FW versions compatible with our config.\n",
    "\n",
    "Try dumping the full json and experiment around with it"
   ]
  },
  {
   "cell_type": "code",
   "execution_count": 42,
   "metadata": {
    "collapsed": false
   },
   "outputs": [
    {
     "name": "stdout",
     "output_type": "stream",
     "text": [
      "Version: 2.2(8)\n",
      "Version: 3.1(2)\n"
     ]
    }
   ],
   "source": [
    "for result in resp.json() :\n",
    "    print \"Version: \" + result['Version']"
   ]
  }
 ],
 "metadata": {
  "kernelspec": {
   "display_name": "Python 2",
   "language": "python",
   "name": "python2"
  },
  "language_info": {
   "codemirror_mode": {
    "name": "ipython",
    "version": 2
   },
   "file_extension": ".py",
   "mimetype": "text/x-python",
   "name": "python",
   "nbconvert_exporter": "python",
   "pygments_lexer": "ipython2",
   "version": "2.7.13"
  }
 },
 "nbformat": 4,
 "nbformat_minor": 0
}
